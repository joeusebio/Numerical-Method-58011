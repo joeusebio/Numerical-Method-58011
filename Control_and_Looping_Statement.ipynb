{
  "nbformat": 4,
  "nbformat_minor": 0,
  "metadata": {
    "colab": {
      "name": "Control and Looping Statement.ipynb",
      "provenance": [],
      "authorship_tag": "ABX9TyPNVf8zqDhO2U24aX28QP5u",
      "include_colab_link": true
    },
    "kernelspec": {
      "name": "python3",
      "display_name": "Python 3"
    },
    "language_info": {
      "name": "python"
    }
  },
  "cells": [
    {
      "cell_type": "markdown",
      "metadata": {
        "id": "view-in-github",
        "colab_type": "text"
      },
      "source": [
        "<a href=\"https://colab.research.google.com/github/joeusebio/Numerical-Method-58011/blob/main/Control_and_Looping_Statement.ipynb\" target=\"_parent\"><img src=\"https://colab.research.google.com/assets/colab-badge.svg\" alt=\"Open In Colab\"/></a>"
      ]
    },
    {
      "cell_type": "markdown",
      "source": [
        "If Statement"
      ],
      "metadata": {
        "id": "9Ripa_GPfU8F"
      }
    },
    {
      "cell_type": "code",
      "execution_count": 1,
      "metadata": {
        "colab": {
          "base_uri": "https://localhost:8080/"
        },
        "id": "GjdJbP5hfSJj",
        "outputId": "1abd48c6-6ce5-419b-e5f7-124bad4c31fd"
      },
      "outputs": [
        {
          "output_type": "stream",
          "name": "stdout",
          "text": [
            "b is greater than a\n"
          ]
        }
      ],
      "source": [
        "a=12\n",
        "b=100\n",
        "\n",
        "if b>a:\n",
        " print(\"b is greater than a\")"
      ]
    },
    {
      "cell_type": "markdown",
      "source": [
        "Elif Statement"
      ],
      "metadata": {
        "id": "i_BvvpAVfVAj"
      }
    },
    {
      "cell_type": "code",
      "source": [
        "if b<a:\n",
        "  print(\"b is greater than a\")\n",
        "elif a>b:\n",
        "  print(\"a is greater than b\")\n",
        "else:\n",
        "  print(\"a is equal to b\")"
      ],
      "metadata": {
        "colab": {
          "base_uri": "https://localhost:8080/"
        },
        "id": "NzC9GOylfnQV",
        "outputId": "6c5a7229-427a-45d9-91e5-83d1b0a80c4c"
      },
      "execution_count": 6,
      "outputs": [
        {
          "output_type": "stream",
          "name": "stdout",
          "text": [
            "a is equal to b\n"
          ]
        }
      ]
    },
    {
      "cell_type": "markdown",
      "source": [
        "Short Hand If Statement"
      ],
      "metadata": {
        "id": "1CTgYM4hgSqI"
      }
    },
    {
      "cell_type": "code",
      "source": [
        "a=12\n",
        "b=100\n",
        "if b>a: print(\"b is greater than a\")"
      ],
      "metadata": {
        "colab": {
          "base_uri": "https://localhost:8080/"
        },
        "id": "sULiAbBngSFp",
        "outputId": "9754dc2f-dd93-4d69-b0fb-5a35baac61fb"
      },
      "execution_count": 7,
      "outputs": [
        {
          "output_type": "stream",
          "name": "stdout",
          "text": [
            "b is greater than a\n"
          ]
        }
      ]
    },
    {
      "cell_type": "markdown",
      "source": [
        "Short Hand If.. Statement"
      ],
      "metadata": {
        "id": "QK-sqofmgh42"
      }
    },
    {
      "cell_type": "code",
      "source": [
        "c=35\n",
        "d=40\n",
        "print(\"c is greater than d\")if c>d else print(\"d is greater than c\")"
      ],
      "metadata": {
        "colab": {
          "base_uri": "https://localhost:8080/"
        },
        "id": "GyEFAstLghpA",
        "outputId": "cef25ee3-1427-424e-9aef-87176ec47678"
      },
      "execution_count": 8,
      "outputs": [
        {
          "output_type": "stream",
          "name": "stdout",
          "text": [
            "d is greater than c\n"
          ]
        }
      ]
    },
    {
      "cell_type": "markdown",
      "source": [
        "And logic- if both statements or operadsare true"
      ],
      "metadata": {
        "id": "Vxg4VAcmj4Mj"
      }
    },
    {
      "cell_type": "code",
      "source": [
        "c=35\n",
        "d=40\n",
        "e=30\n",
        "if d>c and c>e:\n",
        "  print(\"Both condition must be True\")"
      ],
      "metadata": {
        "colab": {
          "base_uri": "https://localhost:8080/"
        },
        "id": "uv0BGG_pj2LT",
        "outputId": "7290360a-96a3-414d-f438-cd8436133b7c"
      },
      "execution_count": 16,
      "outputs": [
        {
          "output_type": "stream",
          "name": "stdout",
          "text": [
            "Both condition must be True\n"
          ]
        }
      ]
    },
    {
      "cell_type": "markdown",
      "source": [
        "Or logic- if one of the operators os True"
      ],
      "metadata": {
        "id": "fJLDW7a_kQvU"
      }
    },
    {
      "cell_type": "code",
      "source": [
        "if d>c or e>c:\n",
        "  print(\"If one of the two operands is True\")"
      ],
      "metadata": {
        "colab": {
          "base_uri": "https://localhost:8080/"
        },
        "id": "vC7GZJPdkQce",
        "outputId": "b04b34fc-5964-4543-8012-a9e963994bb4"
      },
      "execution_count": 20,
      "outputs": [
        {
          "output_type": "stream",
          "name": "stdout",
          "text": [
            "If one of the two operands is True\n"
          ]
        }
      ]
    },
    {
      "cell_type": "markdown",
      "source": [
        "Nested if"
      ],
      "metadata": {
        "id": "p0Igxuzwkzcs"
      }
    },
    {
      "cell_type": "code",
      "source": [
        "x=int(input())\n",
        "if x>10:\n",
        "  print(\"x is above 10\")\n",
        "  if x>20:\n",
        "    print(\"x is above 20\")\n",
        "    if x>30:\n",
        "      print(\"x is above 30\")\n",
        "      if x>40:\n",
        "        print(\"x is above 40\")\n",
        "  else:\n",
        "      print(\"x is not above 40\")\n",
        "else:\n",
        "       print(\"x is not above 30\")\n",
        "    \n",
        "  "
      ],
      "metadata": {
        "colab": {
          "base_uri": "https://localhost:8080/"
        },
        "id": "s5hgX8WEkzIs",
        "outputId": "826df897-ab58-402f-dac5-25a064192fae"
      },
      "execution_count": 25,
      "outputs": [
        {
          "output_type": "stream",
          "name": "stdout",
          "text": [
            "35\n",
            "x is above 10\n",
            "x is above 20\n",
            "x is above 30\n"
          ]
        }
      ]
    },
    {
      "cell_type": "markdown",
      "source": [
        "Application 1- Write a program that determines if the input age is qualified to vote or not. The qualifying 18 years old and above"
      ],
      "metadata": {
        "id": "P54JxrSmjf8d"
      }
    },
    {
      "cell_type": "code",
      "source": [
        "age= int(input())\n",
        "if age>=18:\n",
        "  print(\"You are qualified to vote\")\n",
        "else:\n",
        "  print(\"You are not qualified in vote\")"
      ],
      "metadata": {
        "colab": {
          "base_uri": "https://localhost:8080/"
        },
        "id": "bFSwmBAqjfp0",
        "outputId": "7b302ba6-3193-4dba-ec39-38d9273b3cc8"
      },
      "execution_count": 28,
      "outputs": [
        {
          "output_type": "stream",
          "name": "stdout",
          "text": [
            "18\n",
            "You are qualified to vote\n"
          ]
        }
      ]
    },
    {
      "cell_type": "markdown",
      "source": [
        "For Loop"
      ],
      "metadata": {
        "id": "1F4bQikKk-rk"
      }
    },
    {
      "cell_type": "code",
      "source": [
        "week= [\"sunday\",\"monday\",\"tuesday\",\"wednesday\",\"thursday\",\"friday\",\"saturday\"]\n",
        "for x in week:\n",
        "  print(week)"
      ],
      "metadata": {
        "colab": {
          "base_uri": "https://localhost:8080/"
        },
        "id": "dlX18VUOk-XF",
        "outputId": "7fa5f8db-f2f4-429b-82af-3421b26288df"
      },
      "execution_count": 29,
      "outputs": [
        {
          "output_type": "stream",
          "name": "stdout",
          "text": [
            "['sunday', 'monday', 'tuesday', 'wednesday', 'thursday', 'friday', 'saturday']\n",
            "['sunday', 'monday', 'tuesday', 'wednesday', 'thursday', 'friday', 'saturday']\n",
            "['sunday', 'monday', 'tuesday', 'wednesday', 'thursday', 'friday', 'saturday']\n",
            "['sunday', 'monday', 'tuesday', 'wednesday', 'thursday', 'friday', 'saturday']\n",
            "['sunday', 'monday', 'tuesday', 'wednesday', 'thursday', 'friday', 'saturday']\n",
            "['sunday', 'monday', 'tuesday', 'wednesday', 'thursday', 'friday', 'saturday']\n",
            "['sunday', 'monday', 'tuesday', 'wednesday', 'thursday', 'friday', 'saturday']\n"
          ]
        }
      ]
    }
  ]
}